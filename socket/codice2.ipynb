{
 "cells": [
  {
   "cell_type": "markdown",
   "metadata": {},
   "source": [
    "\n",
    "Introduzione alle socket TCP\n",
    "Le socket TCP sono uno dei modi più diffusi per la comunicazione tra processi su una rete. Una socket è un oggetto software che rappresenta un endpoint di un canale di comunicazione bidirezionale tra due processi. In particolare, una socket TCP è una socket orientata alla connessione, cioè garantisce una connessione affidabile e stabile tra i due processi.\n",
    "Per utilizzare le socket TCP in Python, è necessario importare la libreria socket. Le primitive più importanti della libreria socket per la gestione delle socket TCP sono:\n",
    "⚫ socket(): crea una nuova socket e restituisce il descrittore della socket appena creata. La funzione richiede due parametri di input: il tipo di indirizzo della socket (AF_INET per gli indirizzi IPv4) e il tipo di socket (SOCK_STREAM per le socket TCP).\n",
    ".bind(): assegna un indirizzo IP e una porta alla socket. La funzione richiede un parametro di input, una tupla contenente l'indirizzo IP (in formato stringa) e la porta (in formato numerico) a cui associare la socket.\n",
    "⚫ listen(): mette la socket in ascolto per eventuali connessioni in ingresso. La funzione richiede un parametro di input, il numero massimo di connessioni in coda che la socket è in grado di gestire contemporaneamente.\n",
    "⚫ accept(): accetta una nuova connessione in ingresso. La funzione restituisce una nuova socket dedicata alla connessione accettata e l'indirizzo IP e la porta del client che ha stabilito la connessione. La funzione blocca il processo fino a quando non viene stabilita una nuova connessione.\n",
    "⚫ connect(): avvia la connessione verso un server remoto specificato dall'indirizzo IP e dalla porta. La funzione richiede un parametro di input, una tupla contenente l'indirizzo IP (in formato stringa) e la porta (in formato numerico) del server. .send(): invia dati sulla socket. La funzione richiede un parametro di input, una stringa contenente i dati da inviare, e restituisce il numero di byte effettivamente inviati. Per inviare tutti i dati può essere necessario invocare la send() più volte. ⚫ sendall(): invia tutti i dati sulla socket in una sola volta, e blocca il processo finché tutti i dati non sono stati inviati. In generale, è consigliabile utilizzare la sendall() invece di send() per garantire l'invio completo dei dati. Tuttavia, in alcuni casi specifici, come ad esempio l'invio di dati di grandi dimensioni, potrebbe essere necessario utilizzare la primitiva send() per inviare i dati in blocchi più piccoli.\n",
    "⚫ recv(): riceve dati sulla socket. La funzione restituisce una stringa contenente i dati ricevuti. La funzione blocca il processo fino a quando non arrivano nuovi dati sulla socket.\n",
    "⚫recvform(): restituisce anche l'indirizzo IP e la porta del mittente dei dati ricevuti.\n",
    "⚫ close(): chiude la socket.\n",
    "Queste sono solo alcune delle primitive disponibili nella libreria socket per la gestione delle socket TCP. Altre primitive includono setsockopt() per impostare opzioni sulla socket, getsockopt() per recuperare le opzioni della socket, e molte altre.\n"
   ]
  },
  {
   "cell_type": "markdown",
   "metadata": {},
   "source": [
    "Il costrutto with\n",
    "E' utilizzato per gestire il contesto di un oggetto. In particolare, è utile quando si lavora con oggetti che necessitano di essere aperti e chiusi correttamente, come ad esempio file, socket, connessioni a database e così via.\n",
    "Il costrutto with ha la seguente sintassi:\n",
    "with <oggetto> as <nome_variabile>:\n",
    "<blocco_di_codice>\n",
    "Uscendo dal with l'oggetto viene chiuso automaticamente\n"
   ]
  },
  {
   "cell_type": "code",
   "execution_count": 3,
   "metadata": {},
   "outputs": [
    {
     "name": "stdout",
     "output_type": "stream",
     "text": [
      "<class 'str'>\n",
      "<class 'bytes'>\n",
      "b'Hello'\n",
      "<class 'str'>\n",
      "Hello\n"
     ]
    }
   ],
   "source": [
    "# Chiarimento sul formato di dati scambiato\n",
    "# nella socket vengono inviati byte\n",
    "# quindi le stringhe vanno codificate in byte encode() prima di essere trasmesse\n",
    "# ed i dati ricevuti vanno decodificati decode() prima di essere visualizzati.\n",
    "input_string = 'Hello'\n",
    "print(type(input_string))\n",
    "input_bytes_encoded =input_string.encode()\n",
    "print(type(input_bytes_encoded))\n",
    "print(input_bytes_encoded)\n",
    "output_string=input_bytes_encoded.decode()\n",
    "print(type(output_string)) \n",
    "print(output_string)"
   ]
  },
  {
   "cell_type": "code",
   "execution_count": 4,
   "metadata": {},
   "outputs": [
    {
     "ename": "ConnectionRefusedError",
     "evalue": "[WinError 10061] Impossibile stabilire la connessione. Rifiuto persistente del computer di destinazione",
     "output_type": "error",
     "traceback": [
      "\u001b[1;31m---------------------------------------------------------------------------\u001b[0m",
      "\u001b[1;31mConnectionRefusedError\u001b[0m                    Traceback (most recent call last)",
      "Cell \u001b[1;32mIn[4], line 5\u001b[0m\n\u001b[0;32m      3\u001b[0m PORT \u001b[38;5;241m=\u001b[39m \u001b[38;5;241m65432\u001b[39m \u001b[38;5;66;03m# Porta usata dal server\u001b[39;00m\n\u001b[0;32m      4\u001b[0m \u001b[38;5;28;01mwith\u001b[39;00m socket\u001b[38;5;241m.\u001b[39msocket(socket\u001b[38;5;241m.\u001b[39mAF_INET, socket\u001b[38;5;241m.\u001b[39mSOCK_STREAM) \u001b[38;5;28;01mas\u001b[39;00m sock_service:\n\u001b[1;32m----> 5\u001b[0m     \u001b[43msock_service\u001b[49m\u001b[38;5;241;43m.\u001b[39;49m\u001b[43mconnect\u001b[49m\u001b[43m(\u001b[49m\u001b[43m(\u001b[49m\u001b[43mHOST\u001b[49m\u001b[43m,\u001b[49m\u001b[43m \u001b[49m\u001b[43mPORT\u001b[49m\u001b[43m)\u001b[49m\u001b[43m)\u001b[49m\n\u001b[0;32m      6\u001b[0m     sock_service\u001b[38;5;241m.\u001b[39msendall (\u001b[38;5;124mb\u001b[39m\u001b[38;5;124m'\u001b[39m\u001b[38;5;124mHello, world\u001b[39m\u001b[38;5;124m'\u001b[39m) \u001b[38;5;66;03m# invio direttamente in formato byte\u001b[39;00m\n\u001b[0;32m      7\u001b[0m     data \u001b[38;5;241m=\u001b[39m sock_service\u001b[38;5;241m.\u001b[39mrecv(\u001b[38;5;241m1024\u001b[39m) \u001b[38;5;66;03m# il parametro indica la dimensione massima dei dati che possono essere ricevuti in una sol a volta\u001b[39;00m\n",
      "\u001b[1;31mConnectionRefusedError\u001b[0m: [WinError 10061] Impossibile stabilire la connessione. Rifiuto persistente del computer di destinazione"
     ]
    }
   ],
   "source": [
    "import socket\n",
    "HOST = '127.0.0.1' # Indirizzo del server\n",
    "PORT = 65432 # Porta usata dal server\n",
    "with socket.socket(socket.AF_INET, socket.SOCK_STREAM) as sock_service:\n",
    "    sock_service.connect((HOST, PORT))\n",
    "    sock_service.sendall (b'Hello, world') # invio direttamente in formato byte\n",
    "    data = sock_service.recv(1024) # il parametro indica la dimensione massima dei dati che possono essere ricevuti in una sol a volta\n",
    "#a questo punto la socket è stata chiusa automaticamente\n",
    "print('Received', data.decode())"
   ]
  },
  {
   "cell_type": "code",
   "execution_count": 7,
   "metadata": {},
   "outputs": [
    {
     "ename": "IndentationError",
     "evalue": "expected an indented block after 'with' statement on line 9 (393638481.py, line 12)",
     "output_type": "error",
     "traceback": [
      "\u001b[1;36m  Cell \u001b[1;32mIn[7], line 12\u001b[1;36m\u001b[0m\n\u001b[1;33m    sock_server.bind((IP, PORTA))\u001b[0m\n\u001b[1;37m    ^\u001b[0m\n\u001b[1;31mIndentationError\u001b[0m\u001b[1;31m:\u001b[0m expected an indented block after 'with' statement on line 9\n"
     ]
    }
   ],
   "source": [
    "# Server\n",
    "import socket\n",
    "# Configurazione del server\n",
    "IP=\"127.0.0.1\"\n",
    "PORTA = 65432\n",
    "DIM_BUFFER = 1024\n",
    "\n",
    "#Creazione della socket del server con il costrutto with\n",
    "with socket.socket(socket.AF_INET, socket.SOCK_STREAM) as sock_server:\n",
    "\n",
    "#Binding della socket alla porta specificata\n",
    "sock_server.bind((IP, PORTA))\n",
    "\n",
    "#Metti la socket in ascolto per le connessioni in ingresso\n",
    "sock_server.listen()\n",
    "\n",
    "print(f\"Server in ascolto su {IP}:{PORTA}...\")\n",
    "\n",
    "#Loop principale del server\n",
    "while True:\n",
    "    #accetta le connessioni\n",
    "    sock_service, address_client = sock_server.accept()\n",
    "    with sock_service as sock_client:\n",
    "        # Leggi i dati inviati dal client\n",
    "        dati = sock_client.recv(DIM_BUFFER).decode()\n",
    "        # Stampa il messaggio ricevuto e invia una risposta al client \n",
    "        print(f\"Ricevuto messaggio dal client {sock_client}: {dati}\") \n",
    "        sock_client.sendall(\"Messaggio ricevuto dal server\".encode())"
   ]
  },
  {
   "cell_type": "code",
   "execution_count": null,
   "metadata": {},
   "outputs": [],
   "source": []
  }
 ],
 "metadata": {
  "kernelspec": {
   "display_name": "Python 3",
   "language": "python",
   "name": "python3"
  },
  "language_info": {
   "codemirror_mode": {
    "name": "ipython",
    "version": 3
   },
   "file_extension": ".py",
   "mimetype": "text/x-python",
   "name": "python",
   "nbconvert_exporter": "python",
   "pygments_lexer": "ipython3",
   "version": "3.10.1"
  }
 },
 "nbformat": 4,
 "nbformat_minor": 2
}
